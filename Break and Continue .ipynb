{
 "cells": [
  {
   "cell_type": "code",
   "execution_count": 1,
   "id": "9d75deed-3bdd-4b98-abcb-c99da52fd59c",
   "metadata": {},
   "outputs": [],
   "source": [
    "#Q.1 Write a program to print numbers from 1 to 10, but stop if the number is 5."
   ]
  },
  {
   "cell_type": "code",
   "execution_count": 2,
   "id": "11adf527-db8f-4a7f-9451-77da824ce689",
   "metadata": {},
   "outputs": [
    {
     "name": "stdout",
     "output_type": "stream",
     "text": [
      "1\n",
      "2\n",
      "3\n",
      "4\n"
     ]
    }
   ],
   "source": [
    "n = 10\n",
    "i = 1 \n",
    "while i<n:\n",
    "    print(i)\n",
    "    i= i+1\n",
    "    if i == 5:\n",
    "        break"
   ]
  },
  {
   "cell_type": "code",
   "execution_count": 3,
   "id": "be5bcf5c-942f-402e-aa32-45cd110de26b",
   "metadata": {},
   "outputs": [],
   "source": [
    "#Q.2 Write a program to iterate through a list and stop when encountering a specific element."
   ]
  },
  {
   "cell_type": "code",
   "execution_count": 4,
   "id": "715d2a8d-afcf-4e6e-975a-b49a109000ad",
   "metadata": {},
   "outputs": [],
   "source": [
    "def iterate_until_element(lst, stop_element):\n",
    "    for element in lst:\n",
    "        if element == stop_element:\n",
    "            print(f\"Stopping at element: {element}\")\n",
    "            break\n",
    "        print(f\"Current element: {element}\")"
   ]
  },
  {
   "cell_type": "code",
   "execution_count": 5,
   "id": "e15d26b3-5c9d-428f-815f-a59ac82f7cb1",
   "metadata": {},
   "outputs": [
    {
     "name": "stdout",
     "output_type": "stream",
     "text": [
      "Current element: 1\n",
      "Current element: 3\n",
      "Current element: 5\n",
      "Stopping at element: 7\n"
     ]
    }
   ],
   "source": [
    "my_list = [1, 3, 5, 7, 9, 11]\n",
    "stop_element = 7\n",
    "\n",
    "iterate_until_element(my_list, stop_element)"
   ]
  },
  {
   "cell_type": "code",
   "execution_count": 6,
   "id": "ecbf971b-fab4-4da2-827a-32c7ca08bcbe",
   "metadata": {},
   "outputs": [],
   "source": [
    "#Q.3 Write a program to skip printing even numbers from 1 to 10."
   ]
  },
  {
   "cell_type": "code",
   "execution_count": 7,
   "id": "ac15ece2-d175-4a37-88c1-c637e68a330e",
   "metadata": {},
   "outputs": [
    {
     "data": {
      "text/plain": [
       "[1, 2, 3, 4, 5, 6, 7, 8, 9]"
      ]
     },
     "execution_count": 7,
     "metadata": {},
     "output_type": "execute_result"
    }
   ],
   "source": [
    "list(range (1,10))"
   ]
  },
  {
   "cell_type": "code",
   "execution_count": 9,
   "id": "4df9293c-8a0b-42e6-8a5e-5a28b6139876",
   "metadata": {},
   "outputs": [
    {
     "data": {
      "text/plain": [
       "[1, 3, 5, 7, 9]"
      ]
     },
     "execution_count": 9,
     "metadata": {},
     "output_type": "execute_result"
    }
   ],
   "source": [
    "list(range (1,10,2))"
   ]
  },
  {
   "cell_type": "code",
   "execution_count": 10,
   "id": "c63d77a0-d38e-4202-8d0b-9bbd3f31d463",
   "metadata": {},
   "outputs": [],
   "source": [
    "#Q.4 Write a program to print numbers from 0 to 9 using range()."
   ]
  },
  {
   "cell_type": "code",
   "execution_count": 11,
   "id": "35c4e2f5-c778-4f0e-bfa9-af1c527f6fc8",
   "metadata": {},
   "outputs": [],
   "source": [
    "def print_numbers():\n",
    "    for number in range(10):\n",
    "        print(number)"
   ]
  },
  {
   "cell_type": "code",
   "execution_count": 12,
   "id": "d51313cf-18d9-41b6-b18a-16cdb7bd73b0",
   "metadata": {},
   "outputs": [
    {
     "name": "stdout",
     "output_type": "stream",
     "text": [
      "0\n",
      "1\n",
      "2\n",
      "3\n",
      "4\n",
      "5\n",
      "6\n",
      "7\n",
      "8\n",
      "9\n"
     ]
    }
   ],
   "source": [
    "print_numbers()"
   ]
  },
  {
   "cell_type": "code",
   "execution_count": 14,
   "id": "1e44d8dc-09a4-48d1-ade8-9c8518b727f0",
   "metadata": {},
   "outputs": [],
   "source": [
    "#Q.5 Write a program to print multiplication tables from 1 to 5, but stop after the first table is printed for each number."
   ]
  },
  {
   "cell_type": "code",
   "execution_count": 17,
   "id": "24c54a91-268b-44c4-bedd-5eb55ee17036",
   "metadata": {},
   "outputs": [],
   "source": [
    "def print_multiplication_tables():\n",
    "    for i in range(1, 6):\n",
    "        print(f\"Multiplication table for {i}:\")\n",
    "        for j in range(1, 2):\n",
    "            print(f\"{i} x {j} = {i * j}\")\n",
    "        print() "
   ]
  },
  {
   "cell_type": "code",
   "execution_count": 18,
   "id": "ef80f2e7-158d-42a9-a8a8-16ca9ee663cf",
   "metadata": {},
   "outputs": [
    {
     "name": "stdout",
     "output_type": "stream",
     "text": [
      "Multiplication table for 1:\n",
      "1 x 1 = 1\n",
      "\n",
      "Multiplication table for 2:\n",
      "2 x 1 = 2\n",
      "\n",
      "Multiplication table for 3:\n",
      "3 x 1 = 3\n",
      "\n",
      "Multiplication table for 4:\n",
      "4 x 1 = 4\n",
      "\n",
      "Multiplication table for 5:\n",
      "5 x 1 = 5\n",
      "\n"
     ]
    }
   ],
   "source": [
    "print_multiplication_tables()"
   ]
  },
  {
   "cell_type": "code",
   "execution_count": 19,
   "id": "aeac592a-2e98-4e58-af4c-a631c745c09a",
   "metadata": {},
   "outputs": [],
   "source": [
    "#Q.6 Write a program to skip printing even numbers using a while loop."
   ]
  },
  {
   "cell_type": "code",
   "execution_count": 1,
   "id": "2bc715b1-90d5-4c1a-8cde-510f41095e64",
   "metadata": {},
   "outputs": [
    {
     "name": "stdout",
     "output_type": "stream",
     "text": [
      "1\n",
      "3\n",
      "5\n",
      "7\n",
      "9\n",
      "11\n",
      "13\n",
      "15\n",
      "17\n",
      "19\n"
     ]
    }
   ],
   "source": [
    "num = 1\n",
    "limit = 20\n",
    "while num <= limit:\n",
    "    print(num)\n",
    "    num += 2"
   ]
  },
  {
   "cell_type": "code",
   "execution_count": null,
   "id": "338d16bd-493a-419a-873c-521d76eca612",
   "metadata": {},
   "outputs": [],
   "source": []
  }
 ],
 "metadata": {
  "kernelspec": {
   "display_name": "Python 3 (ipykernel)",
   "language": "python",
   "name": "python3"
  },
  "language_info": {
   "codemirror_mode": {
    "name": "ipython",
    "version": 3
   },
   "file_extension": ".py",
   "mimetype": "text/x-python",
   "name": "python",
   "nbconvert_exporter": "python",
   "pygments_lexer": "ipython3",
   "version": "3.10.8"
  }
 },
 "nbformat": 4,
 "nbformat_minor": 5
}
